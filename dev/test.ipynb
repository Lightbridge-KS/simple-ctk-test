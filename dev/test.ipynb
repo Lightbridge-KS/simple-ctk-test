{
 "cells": [
  {
   "cell_type": "markdown",
   "metadata": {},
   "source": [
    "# Testing"
   ]
  },
  {
   "cell_type": "code",
   "execution_count": 3,
   "metadata": {},
   "outputs": [],
   "source": [
    "import site\n",
    "from pathlib import Path"
   ]
  },
  {
   "cell_type": "code",
   "execution_count": 14,
   "metadata": {},
   "outputs": [
    {
     "data": {
      "text/plain": [
       "PosixPath('/Users/kittipos/.pyenv/versions/3.11.0/lib/python3.11/site-packages/a')"
      ]
     },
     "execution_count": 14,
     "metadata": {},
     "output_type": "execute_result"
    }
   ],
   "source": [
    "sp = site.getsitepackages()\n",
    "Path(sp[0]) / \"a\""
   ]
  },
  {
   "cell_type": "code",
   "execution_count": 17,
   "metadata": {},
   "outputs": [
    {
     "data": {
      "text/plain": [
       "'//Users/kittipos/.pyenv/versions/3.11.0/lib/python3.11/site-packagesh:h/'"
      ]
     },
     "execution_count": 17,
     "metadata": {},
     "output_type": "execute_result"
    }
   ],
   "source": [
    "def get_pkg_path(pkg, system):\n",
    "    # Step 2: Provide Path to `site-packages`\n",
    "    sp = site.getsitepackages()[0]\n",
    "    if system == \"mac\":\n",
    "        return f\"/{sp}{pkg}:{pkg}/\"\n",
    "    if system == \"win\":\n",
    "        return f\"/{sp}{pkg};{pkg}/\"\n",
    "\n",
    "get_pkg_path(\"h\", \"mac\")"
   ]
  }
 ],
 "metadata": {
  "kernelspec": {
   "display_name": "Python 3",
   "language": "python",
   "name": "python3"
  },
  "language_info": {
   "codemirror_mode": {
    "name": "ipython",
    "version": 3
   },
   "file_extension": ".py",
   "mimetype": "text/x-python",
   "name": "python",
   "nbconvert_exporter": "python",
   "pygments_lexer": "ipython3",
   "version": "3.11.0"
  }
 },
 "nbformat": 4,
 "nbformat_minor": 2
}
